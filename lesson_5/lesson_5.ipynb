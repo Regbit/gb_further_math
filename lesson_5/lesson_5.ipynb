{
 "cells": [
  {
   "cell_type": "code",
   "execution_count": null,
   "metadata": {},
   "outputs": [],
   "source": [
    "# ---------------------------------------\n",
    "# ------------------1--------------------\n",
    "# ---------------------------------------"
   ]
  },
  {
   "cell_type": "code",
   "execution_count": 6,
   "metadata": {},
   "outputs": [],
   "source": [
    "%matplotlib inline\n",
    "import numpy as np\n",
    "from random import randint"
   ]
  },
  {
   "cell_type": "code",
   "execution_count": 119,
   "metadata": {},
   "outputs": [
    {
     "name": "stdout",
     "output_type": "stream",
     "text": [
      "\n",
      "Number on roulette: 34\n",
      "\n",
      "Number on roulette: 19\n",
      "\n",
      "Number on roulette: 3\n",
      "\n",
      "Number on roulette: 29\n",
      "\n",
      "Number on roulette: 16\n",
      "\n",
      "Number on roulette: 33\n",
      "\n",
      "Number on roulette: 1\n",
      "\n",
      "Number on roulette: 0\n",
      "\n",
      "Number on roulette: 34\n",
      "\n",
      "Number on roulette: 2\n",
      "!\n"
     ]
    }
   ],
   "source": [
    "while input() != '!':\n",
    "    print(f\"Number on roulette: {randint(0, 37)}\")"
   ]
  },
  {
   "cell_type": "code",
   "execution_count": null,
   "metadata": {},
   "outputs": [],
   "source": [
    "# ---------------------------------------\n",
    "# -----------------2.1-------------------\n",
    "# ---------------------------------------"
   ]
  },
  {
   "cell_type": "code",
   "execution_count": 82,
   "metadata": {},
   "outputs": [
    {
     "name": "stdout",
     "output_type": "stream",
     "text": [
      "p_a(0.4864864864864865) = p_a_alt(0.4864864864864865) is True\n"
     ]
    }
   ],
   "source": [
    "# Проверка: событие A - выпало чётное число. \n",
    "# A = 2 | 4 | ... | 36\n",
    "# Значит должно быть верно выражение: P(A) = P(2) + P(4) + ... P(36)\n",
    "# Всего чисел - 37\n",
    "# Вероятность выпадения конкретного числа = 1/37\n",
    "\n",
    "nums = 37\n",
    "p_a = 0\n",
    "\n",
    "for i in range(nums):\n",
    "    if i % 2 == 0 and i != 0:\n",
    "        p_a += 1/nums\n",
    "\n",
    "# Альтернативно\n",
    "# Чётных чисел - 18\n",
    "# Вероятность выпадения любого чётного числа = 18/37\n",
    "\n",
    "p_a_alt = 18/37\n",
    "print(f'p_a({p_a}) = p_a_alt({p_a_alt}) is {p_a == p_a_alt}')"
   ]
  },
  {
   "cell_type": "code",
   "execution_count": 47,
   "metadata": {},
   "outputs": [
    {
     "data": {
      "text/plain": [
       "0.48696"
      ]
     },
     "execution_count": 47,
     "metadata": {},
     "output_type": "execute_result"
    }
   ],
   "source": [
    "# Сымитируем 100000 раудов рулетки для сверки при больших n\n",
    "n = 100000\n",
    "even_count = 0\n",
    "for i in range(n):\n",
    "    rand = randint(0, 36)\n",
    "    even_count += 1 if rand % 2 == 0 and rand != 0 else 0\n",
    "\n",
    "p_a_sim = even_count / n\n",
    "\n",
    "p_a_sim"
   ]
  },
  {
   "cell_type": "code",
   "execution_count": null,
   "metadata": {},
   "outputs": [],
   "source": [
    "# ---------------------------------------\n",
    "# -----------------2.2-------------------\n",
    "# ---------------------------------------"
   ]
  },
  {
   "cell_type": "code",
   "execution_count": 65,
   "metadata": {},
   "outputs": [
    {
     "name": "stdout",
     "output_type": "stream",
     "text": [
      "3.1773499213836307\n",
      "5.824578910810424\n",
      "2.2795287189851443\n",
      "5.340587528790797\n",
      "5.531300692947999\n",
      "4.510195198548451\n",
      "4.964448910078054\n",
      "4.458693605073952\n",
      "4.794735323804158\n",
      "6.208682878025753\n"
     ]
    },
    {
     "data": {
      "text/plain": [
       "Text(0.5, 1.0, 'Histogram')"
      ]
     },
     "execution_count": 65,
     "metadata": {},
     "output_type": "execute_result"
    },
    {
     "data": {
      "image/png": "[encoded data removed]",
      "text/plain": [
       "<Figure size 432x288 with 1 Axes>"
      ]
     },
     "metadata": {
      "needs_background": "light"
     },
     "output_type": "display_data"
    }
   ],
   "source": [
    "import matplotlib.pyplot as plt\n",
    "\n",
    "total = []\n",
    "\n",
    "for i in range(10):\n",
    "    x = sum(np.random.rand(10))\n",
    "    print(x)\n",
    "    total.append(x)\n",
    "     \n",
    "\n",
    "bins = 10\n",
    "\n",
    "plt.hist(total, bins)\n",
    "\n",
    "plt.xlabel(\"x\")\n",
    "plt.ylabel(\"Probability\")\n",
    "plt.title(\"Histogram\")"
   ]
  },
  {
   "cell_type": "code",
   "execution_count": null,
   "metadata": {},
   "outputs": [],
   "source": [
    "# ---------------------------------------\n",
    "# -----------------3.1-------------------\n",
    "# ---------------------------------------"
   ]
  },
  {
   "cell_type": "code",
   "execution_count": 69,
   "metadata": {},
   "outputs": [
    {
     "name": "stdout",
     "output_type": "stream",
     "text": [
      "3717 10000 0.3717\n"
     ]
    }
   ],
   "source": [
    "k, n = 0, 10000\n",
    "flip_1_vector = np.random.randint(0, 2, n)\n",
    "flip_2_vector = np.random.randint(0, 2, n)\n",
    "flip_3_vector = np.random.randint(0, 2, n)\n",
    "flip_4_vector = np.random.randint(0, 2, n)\n",
    "\n",
    "x = flip_1_vector + flip_2_vector + flip_3_vector + flip_4_vector\n",
    "\n",
    "for x_i in x:\n",
    "    if x_i == 2:\n",
    "        k += 1\n",
    "        \n",
    "print(k, n, k/n)"
   ]
  },
  {
   "cell_type": "code",
   "execution_count": 77,
   "metadata": {},
   "outputs": [
    {
     "name": "stdout",
     "output_type": "stream",
     "text": [
      "C from 'n' experiments with 'k' successes = 6.0\n",
      "P from 'n' experiments with 'k' successes = 0.375\n"
     ]
    }
   ],
   "source": [
    "k_t = 2\n",
    "n_t = 4\n",
    "c_n_k = np.math.factorial(n_t) / (np.math.factorial(k_t) * np.math.factorial(n_t - k_t))\n",
    "print(f\"C from 'n' experiments with 'k' successes = {c_n_k}\")\n",
    "p_n_k = c_n_k * 2 ** (-n_t)\n",
    "print(f\"P from 'n' experiments with 'k' successes = {p_n_k}\")"
   ]
  },
  {
   "cell_type": "code",
   "execution_count": null,
   "metadata": {},
   "outputs": [],
   "source": [
    "# ---------------------------------------\n",
    "# -----------------3.2-------------------\n",
    "# ---------------------------------------"
   ]
  },
  {
   "cell_type": "code",
   "execution_count": 79,
   "metadata": {},
   "outputs": [
    {
     "name": "stdout",
     "output_type": "stream",
     "text": [
      "1646 10000 0.1646\n"
     ]
    }
   ],
   "source": [
    "k, n = 0, 10000\n",
    "k_t, n_t = 5, 7\n",
    "\n",
    "flip_vectors = []\n",
    "for _ in range(n_t):\n",
    "    flip_vectors.append(np.random.randint(0, 2, n))\n",
    "\n",
    "x = sum(flip_vectors)\n",
    "\n",
    "for x_i in x:\n",
    "    if x_i == k_t:\n",
    "        k += 1\n",
    "        \n",
    "print(k, n, k/n)"
   ]
  },
  {
   "cell_type": "code",
   "execution_count": 80,
   "metadata": {},
   "outputs": [
    {
     "name": "stdout",
     "output_type": "stream",
     "text": [
      "C from 'n' experiments with 'k' successes = 21.0\n",
      "P from 'n' experiments with 'k' successes = 0.1640625\n"
     ]
    }
   ],
   "source": [
    "c_n_k = np.math.factorial(n_t) / (np.math.factorial(k_t) * np.math.factorial(n_t - k_t))\n",
    "print(f\"C from 'n' experiments with 'k' successes = {c_n_k}\")\n",
    "p_n_k = c_n_k * 2 ** (-n_t)\n",
    "print(f\"P from 'n' experiments with 'k' successes = {p_n_k}\")"
   ]
  },
  {
   "cell_type": "code",
   "execution_count": null,
   "metadata": {},
   "outputs": [],
   "source": [
    "# ---------------------------------------\n",
    "# ------------------4--------------------\n",
    "# ---------------------------------------"
   ]
  },
  {
   "cell_type": "code",
   "execution_count": 89,
   "metadata": {},
   "outputs": [
    {
     "name": "stdout",
     "output_type": "stream",
     "text": [
      "012\n",
      "013\n",
      "014\n",
      "015\n",
      "021\n",
      "023\n",
      "024\n",
      "025\n",
      "031\n",
      "032\n",
      "034\n",
      "035\n",
      "041\n",
      "042\n",
      "043\n",
      "045\n",
      "051\n",
      "052\n",
      "053\n",
      "054\n",
      "102\n",
      "103\n",
      "104\n",
      "105\n",
      "120\n",
      "123\n",
      "124\n",
      "125\n",
      "130\n",
      "132\n",
      "134\n",
      "135\n",
      "140\n",
      "142\n",
      "143\n",
      "145\n",
      "150\n",
      "152\n",
      "153\n",
      "154\n",
      "201\n",
      "203\n",
      "204\n",
      "205\n",
      "210\n",
      "213\n",
      "214\n",
      "215\n",
      "230\n",
      "231\n",
      "234\n",
      "235\n",
      "240\n",
      "241\n",
      "243\n",
      "245\n",
      "250\n",
      "251\n",
      "253\n",
      "254\n",
      "301\n",
      "302\n",
      "304\n",
      "305\n",
      "310\n",
      "312\n",
      "314\n",
      "315\n",
      "320\n",
      "321\n",
      "324\n",
      "325\n",
      "340\n",
      "341\n",
      "342\n",
      "345\n",
      "350\n",
      "351\n",
      "352\n",
      "354\n",
      "401\n",
      "402\n",
      "403\n",
      "405\n",
      "410\n",
      "412\n",
      "413\n",
      "415\n",
      "420\n",
      "421\n",
      "423\n",
      "425\n",
      "430\n",
      "431\n",
      "432\n",
      "435\n",
      "450\n",
      "451\n",
      "452\n",
      "453\n",
      "501\n",
      "502\n",
      "503\n",
      "504\n",
      "510\n",
      "512\n",
      "513\n",
      "514\n",
      "520\n",
      "521\n",
      "523\n",
      "524\n",
      "530\n",
      "531\n",
      "532\n",
      "534\n",
      "540\n",
      "541\n",
      "542\n",
      "543\n"
     ]
    }
   ],
   "source": [
    "from itertools import permutations, combinations\n",
    "\n",
    "k, n = 3, 6\n",
    "x = ''.join([str(i) for i in range(n)])\n",
    "\n",
    "for i in permutations(x, k):\n",
    "    print(''.join(i))"
   ]
  },
  {
   "cell_type": "code",
   "execution_count": 90,
   "metadata": {},
   "outputs": [
    {
     "name": "stdout",
     "output_type": "stream",
     "text": [
      "012\n",
      "013\n",
      "014\n",
      "015\n",
      "023\n",
      "024\n",
      "025\n",
      "034\n",
      "035\n",
      "045\n",
      "123\n",
      "124\n",
      "125\n",
      "134\n",
      "135\n",
      "145\n",
      "234\n",
      "235\n",
      "245\n",
      "345\n"
     ]
    }
   ],
   "source": [
    "for i in combinations(x, k):\n",
    "    print(''.join(i))"
   ]
  },
  {
   "cell_type": "code",
   "execution_count": null,
   "metadata": {},
   "outputs": [],
   "source": [
    "# ---------------------------------------\n",
    "# ------------------5--------------------\n",
    "# ---------------------------------------"
   ]
  },
  {
   "cell_type": "code",
   "execution_count": 117,
   "metadata": {},
   "outputs": [
    {
     "name": "stdout",
     "output_type": "stream",
     "text": [
      "0.42306363842709543 0.27989269458953975\n"
     ]
    },
    {
     "data": {
      "text/plain": [
       "0.5857250470084245"
      ]
     },
     "execution_count": 117,
     "metadata": {},
     "output_type": "execute_result"
    },
    {
     "data": {
      "image/png": "[encoded data removed]",
      "text/plain": [
       "<Figure size 432x288 with 1 Axes>"
      ]
     },
     "metadata": {
      "needs_background": "light"
     },
     "output_type": "display_data"
    }
   ],
   "source": [
    "n = 100\n",
    "r = 0.42\n",
    "x = np.random.rand(n)\n",
    "y = r * x + (1 - r) * np.random.rand(n)\n",
    "\n",
    "plt.plot(x, y, 'o')\n",
    "\n",
    "plt.xlabel(\"x\")\n",
    "plt.ylabel(\"y\")\n",
    "plt.grid(True)\n",
    "\n",
    "a = (np.sum(x) * np.sum(y) - n * np.sum(x * y)) / (np.sum(x)**2 - n * np.sum(x**2))\n",
    "b = (np.sum(y) - a * np.sum(x)) / n\n",
    "\n",
    "print(a, b)\n",
    "\n",
    "plt.plot([0, 1], [b, a + b])\n",
    "\n",
    "x_minus_avg = x - np.average(x)\n",
    "y_minus_avg = y - np.average(y)\n",
    "\n",
    "r = (np.sum(x_minus_avg * y_minus_avg)) / np.sqrt(np.sum(x_minus_avg**2) * np.sum(y_minus_avg**2))\n",
    "r"
   ]
  }
 ],
 "metadata": {
  "kernelspec": {
   "display_name": "Python 3",
   "language": "python",
   "name": "python3"
  },
  "language_info": {
   "codemirror_mode": {
    "name": "ipython",
    "version": 3
   },
   "file_extension": ".py",
   "mimetype": "text/x-python",
   "name": "python",
   "nbconvert_exporter": "python",
   "pygments_lexer": "ipython3",
   "version": "3.8.3"
  }
 },
 "nbformat": 4,
 "nbformat_minor": 4
}
